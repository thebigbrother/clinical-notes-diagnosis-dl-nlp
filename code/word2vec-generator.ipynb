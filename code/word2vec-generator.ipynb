{
 "cells": [
  {
   "cell_type": "markdown",
   "metadata": {},
   "source": [
    "#### Dependecies\n",
    "\n",
    "scipy = 0.17.0\n",
    "gensim = 1.0.1\n",
    "pandas = 0.19.2\n",
    "numpy = 1.11.2\n",
    "\n",
    "#### I used DATA_HADM.csv created using feature_extraction_nonseq.ipynb"
   ]
  },
  {
   "cell_type": "code",
   "execution_count": 3,
   "metadata": {},
   "outputs": [
    {
     "data": {
      "text/html": [
       "<div>\n",
       "<style scoped>\n",
       "    .dataframe tbody tr th:only-of-type {\n",
       "        vertical-align: middle;\n",
       "    }\n",
       "\n",
       "    .dataframe tbody tr th {\n",
       "        vertical-align: top;\n",
       "    }\n",
       "\n",
       "    .dataframe thead th {\n",
       "        text-align: right;\n",
       "    }\n",
       "</style>\n",
       "<table border=\"1\" class=\"dataframe\">\n",
       "  <thead>\n",
       "    <tr style=\"text-align: right;\">\n",
       "      <th></th>\n",
       "      <th>id</th>\n",
       "      <th>text</th>\n",
       "      <th>4019</th>\n",
       "      <th>4280</th>\n",
       "      <th>42731</th>\n",
       "      <th>41401</th>\n",
       "      <th>5849</th>\n",
       "      <th>25000</th>\n",
       "      <th>2724</th>\n",
       "      <th>51881</th>\n",
       "      <th>5990</th>\n",
       "      <th>53081</th>\n",
       "    </tr>\n",
       "  </thead>\n",
       "  <tbody>\n",
       "    <tr>\n",
       "      <th>0</th>\n",
       "      <td>100001</td>\n",
       "      <td>admission date discharge date date birth sex f...</td>\n",
       "      <td>0</td>\n",
       "      <td>0</td>\n",
       "      <td>0</td>\n",
       "      <td>0</td>\n",
       "      <td>1</td>\n",
       "      <td>0</td>\n",
       "      <td>0</td>\n",
       "      <td>0</td>\n",
       "      <td>0</td>\n",
       "      <td>0</td>\n",
       "    </tr>\n",
       "    <tr>\n",
       "      <th>1</th>\n",
       "      <td>100003</td>\n",
       "      <td>admission date discharge date date birth sex s...</td>\n",
       "      <td>1</td>\n",
       "      <td>0</td>\n",
       "      <td>0</td>\n",
       "      <td>0</td>\n",
       "      <td>0</td>\n",
       "      <td>0</td>\n",
       "      <td>0</td>\n",
       "      <td>0</td>\n",
       "      <td>0</td>\n",
       "      <td>0</td>\n",
       "    </tr>\n",
       "    <tr>\n",
       "      <th>2</th>\n",
       "      <td>100006</td>\n",
       "      <td>admission date discharge date date birth sex f...</td>\n",
       "      <td>0</td>\n",
       "      <td>0</td>\n",
       "      <td>0</td>\n",
       "      <td>0</td>\n",
       "      <td>0</td>\n",
       "      <td>0</td>\n",
       "      <td>0</td>\n",
       "      <td>1</td>\n",
       "      <td>0</td>\n",
       "      <td>0</td>\n",
       "    </tr>\n",
       "    <tr>\n",
       "      <th>3</th>\n",
       "      <td>100007</td>\n",
       "      <td>admission date discharge date date birth sex f...</td>\n",
       "      <td>1</td>\n",
       "      <td>0</td>\n",
       "      <td>0</td>\n",
       "      <td>0</td>\n",
       "      <td>0</td>\n",
       "      <td>0</td>\n",
       "      <td>0</td>\n",
       "      <td>0</td>\n",
       "      <td>0</td>\n",
       "      <td>0</td>\n",
       "    </tr>\n",
       "    <tr>\n",
       "      <th>4</th>\n",
       "      <td>100009</td>\n",
       "      <td>admission date discharge date date birth sex s...</td>\n",
       "      <td>1</td>\n",
       "      <td>0</td>\n",
       "      <td>0</td>\n",
       "      <td>1</td>\n",
       "      <td>0</td>\n",
       "      <td>1</td>\n",
       "      <td>0</td>\n",
       "      <td>0</td>\n",
       "      <td>0</td>\n",
       "      <td>0</td>\n",
       "    </tr>\n",
       "  </tbody>\n",
       "</table>\n",
       "</div>"
      ],
      "text/plain": [
       "       id                                               text  4019  4280  \\\n",
       "0  100001  admission date discharge date date birth sex f...     0     0   \n",
       "1  100003  admission date discharge date date birth sex s...     1     0   \n",
       "2  100006  admission date discharge date date birth sex f...     0     0   \n",
       "3  100007  admission date discharge date date birth sex f...     1     0   \n",
       "4  100009  admission date discharge date date birth sex s...     1     0   \n",
       "\n",
       "   42731  41401  5849  25000  2724  51881  5990  53081  \n",
       "0      0      0     1      0     0      0     0      0  \n",
       "1      0      0     0      0     0      0     0      0  \n",
       "2      0      0     0      0     0      1     0      0  \n",
       "3      0      0     0      0     0      0     0      0  \n",
       "4      0      1     0      1     0      0     0      0  "
      ]
     },
     "execution_count": 3,
     "metadata": {},
     "output_type": "execute_result"
    }
   ],
   "source": [
    "import pandas as pd\n",
    "import pickle\n",
    "\n",
    "df_hadm_top10 = pd.read_csv(\"./data/DATA_HADM_CLEANED_top10_icd9code.csv\", escapechar='\\\\')\n",
    "ICD9CODES = pickle.load(open(\"./data/ICD9CODES.p\", \"rb\"))\n",
    "\n",
    "df_hadm_top10.head(5)"
   ]
  },
  {
   "cell_type": "code",
   "execution_count": 5,
   "metadata": {},
   "outputs": [
    {
     "data": {
      "text/plain": [
       "52726"
      ]
     },
     "execution_count": 5,
     "metadata": {},
     "output_type": "execute_result"
    }
   ],
   "source": [
    "len(df_hadm_top10)"
   ]
  },
  {
   "cell_type": "code",
   "execution_count": 4,
   "metadata": {},
   "outputs": [
    {
     "data": {
      "text/plain": [
       "39544"
      ]
     },
     "execution_count": 4,
     "metadata": {},
     "output_type": "execute_result"
    }
   ],
   "source": [
    "import random\n",
    "\n",
    "def separate(seed, N):    \n",
    "    idx=list(range(N))\n",
    "    random.seed(seed)\n",
    "    random.shuffle(idx)\n",
    "    idx_train= idx[0:int(N*0.50)]\n",
    "    idx_val= idx[int(N*0.50):int(N*0.75)]\n",
    "    idx_test= idx[int(N*0.75):N]\n",
    "\n",
    "    return idx_train, idx_val, idx_test\n",
    "\n",
    "\n",
    "idx_train, idx_val, idx_test = separate(1234, df_hadm_top10.shape[0])\n",
    "idx_join_train=idx_train + idx_val\n",
    "len(idx_join_train)"
   ]
  },
  {
   "cell_type": "code",
   "execution_count": 6,
   "metadata": {},
   "outputs": [
    {
     "data": {
      "text/html": [
       "<div>\n",
       "<style scoped>\n",
       "    .dataframe tbody tr th:only-of-type {\n",
       "        vertical-align: middle;\n",
       "    }\n",
       "\n",
       "    .dataframe tbody tr th {\n",
       "        vertical-align: top;\n",
       "    }\n",
       "\n",
       "    .dataframe thead th {\n",
       "        text-align: right;\n",
       "    }\n",
       "</style>\n",
       "<table border=\"1\" class=\"dataframe\">\n",
       "  <thead>\n",
       "    <tr style=\"text-align: right;\">\n",
       "      <th></th>\n",
       "      <th>id</th>\n",
       "      <th>text</th>\n",
       "      <th>4019</th>\n",
       "      <th>4280</th>\n",
       "      <th>42731</th>\n",
       "      <th>41401</th>\n",
       "      <th>5849</th>\n",
       "      <th>25000</th>\n",
       "      <th>2724</th>\n",
       "      <th>51881</th>\n",
       "      <th>5990</th>\n",
       "      <th>53081</th>\n",
       "    </tr>\n",
       "  </thead>\n",
       "  <tbody>\n",
       "    <tr>\n",
       "      <th>48602</th>\n",
       "      <td>192120</td>\n",
       "      <td>admission date discharge date date birth sex f...</td>\n",
       "      <td>0</td>\n",
       "      <td>0</td>\n",
       "      <td>0</td>\n",
       "      <td>0</td>\n",
       "      <td>0</td>\n",
       "      <td>0</td>\n",
       "      <td>0</td>\n",
       "      <td>0</td>\n",
       "      <td>1</td>\n",
       "      <td>0</td>\n",
       "    </tr>\n",
       "    <tr>\n",
       "      <th>35229</th>\n",
       "      <td>167005</td>\n",
       "      <td>admission date discharge date date birth sex s...</td>\n",
       "      <td>0</td>\n",
       "      <td>1</td>\n",
       "      <td>1</td>\n",
       "      <td>1</td>\n",
       "      <td>1</td>\n",
       "      <td>0</td>\n",
       "      <td>0</td>\n",
       "      <td>0</td>\n",
       "      <td>1</td>\n",
       "      <td>0</td>\n",
       "    </tr>\n",
       "    <tr>\n",
       "      <th>11870</th>\n",
       "      <td>122438</td>\n",
       "      <td>admission date discharge date date birth sex f...</td>\n",
       "      <td>1</td>\n",
       "      <td>0</td>\n",
       "      <td>0</td>\n",
       "      <td>0</td>\n",
       "      <td>0</td>\n",
       "      <td>0</td>\n",
       "      <td>0</td>\n",
       "      <td>0</td>\n",
       "      <td>0</td>\n",
       "      <td>0</td>\n",
       "    </tr>\n",
       "    <tr>\n",
       "      <th>41322</th>\n",
       "      <td>178371</td>\n",
       "      <td>admission date discharge date date birth sex s...</td>\n",
       "      <td>1</td>\n",
       "      <td>0</td>\n",
       "      <td>0</td>\n",
       "      <td>0</td>\n",
       "      <td>0</td>\n",
       "      <td>1</td>\n",
       "      <td>0</td>\n",
       "      <td>0</td>\n",
       "      <td>0</td>\n",
       "      <td>0</td>\n",
       "    </tr>\n",
       "    <tr>\n",
       "      <th>3767</th>\n",
       "      <td>107054</td>\n",
       "      <td>admission date discharge date date birth sex s...</td>\n",
       "      <td>1</td>\n",
       "      <td>0</td>\n",
       "      <td>0</td>\n",
       "      <td>0</td>\n",
       "      <td>0</td>\n",
       "      <td>0</td>\n",
       "      <td>0</td>\n",
       "      <td>0</td>\n",
       "      <td>0</td>\n",
       "      <td>1</td>\n",
       "    </tr>\n",
       "  </tbody>\n",
       "</table>\n",
       "</div>"
      ],
      "text/plain": [
       "           id                                               text  4019  4280  \\\n",
       "48602  192120  admission date discharge date date birth sex f...     0     0   \n",
       "35229  167005  admission date discharge date date birth sex s...     0     1   \n",
       "11870  122438  admission date discharge date date birth sex f...     1     0   \n",
       "41322  178371  admission date discharge date date birth sex s...     1     0   \n",
       "3767   107054  admission date discharge date date birth sex s...     1     0   \n",
       "\n",
       "       42731  41401  5849  25000  2724  51881  5990  53081  \n",
       "48602      0      0     0      0     0      0     1      0  \n",
       "35229      1      1     1      0     0      0     1      0  \n",
       "11870      0      0     0      0     0      0     0      0  \n",
       "41322      0      0     0      1     0      0     0      0  \n",
       "3767       0      0     0      0     0      0     0      1  "
      ]
     },
     "execution_count": 6,
     "metadata": {},
     "output_type": "execute_result"
    }
   ],
   "source": [
    "df_hadm_top10_w2v=df_hadm_top10.iloc[idx_join_train].copy()\n",
    "df_hadm_top10_w2v.head(5)"
   ]
  },
  {
   "cell_type": "code",
   "execution_count": 7,
   "metadata": {},
   "outputs": [],
   "source": [
    "# Cleanning the data\n",
    "# Light preprocesing done on purpose (so word2vec understand sentence structure)\n",
    "import re\n",
    "def preprocessor(text):\n",
    "    text = re.sub('<[^>]*>', '', text)\n",
    "    text = re.sub('[\\W]+', ' ', text.lower())\n",
    "    text = text.split()\n",
    "    return text\n",
    "\n",
    "token_review = list(df_hadm_top10_w2v['text'].apply(preprocessor))"
   ]
  },
  {
   "cell_type": "code",
   "execution_count": 8,
   "metadata": {},
   "outputs": [
    {
     "data": {
      "text/plain": [
       "39544"
      ]
     },
     "execution_count": 8,
     "metadata": {},
     "output_type": "execute_result"
    }
   ],
   "source": [
    "len(token_review)"
   ]
  },
  {
   "cell_type": "markdown",
   "metadata": {},
   "source": [
    "### Apply Word2Vec"
   ]
  },
  {
   "cell_type": "code",
   "execution_count": 9,
   "metadata": {},
   "outputs": [],
   "source": [
    "from gensim.models import Word2Vec\n",
    "#import gensim.models.Word2Vec\n",
    "from gensim import utils\n",
    "from time import time"
   ]
  },
  {
   "cell_type": "code",
   "execution_count": 16,
   "metadata": {
    "scrolled": true
   },
   "outputs": [
    {
     "name": "stdout",
     "output_type": "stream",
     "text": [
      "0\n",
      "1\n",
      "2\n",
      "3\n",
      "4\n",
      "Time taken for Word2vec training:  658.1502087116241 seconds.\n"
     ]
    }
   ],
   "source": [
    "\n",
    "\n",
    "# assumptions: window is 5 words left and right, eliminate words than dont occur in\n",
    "# more than 10 docs, use 4 workers for a quadcore machine. Size is the size of vector\n",
    "# negative=5 implies negative sampling and makes doc2vec faster to train\n",
    "# sg=0 means CBOW architecture used. sg=1 means skip-gram is used\n",
    "#model = Doc2Vec(sentence, size=100, window=5, workers=4, min_count=5)\n",
    "\n",
    "\n",
    "import random\n",
    "\n",
    "size = 300  #change to 100 and 600 to generate vectors with those dimensions\n",
    "epochs = 1\n",
    "\n",
    "#instantiate our  model\n",
    "model_w2v = Word2Vec(min_count=10, window=5, size=size, sample=1e-3, negative=5, workers=4, sg=0)\n",
    "\n",
    "#build vocab over all reviews\n",
    "model_w2v.build_vocab(token_review)\n",
    "\n",
    "#We pass through the data set multiple times, shuffling the training reviews each time to improve accuracy.\n",
    "Idx=list(range(len(token_review)))\n",
    "\n",
    "t0 = time()\n",
    "for epoch in range(5):\n",
    "     random.shuffle(Idx)\n",
    "     perm_sentences = [token_review[i] for i in Idx]\n",
    "     model_w2v.train(perm_sentences, total_examples = model_w2v.corpus_count, epochs = model_w2v.epochs)\n",
    "     print(epoch)\n",
    "    \n",
    "elapsed=time() - t0\n",
    "print(\"Time taken for Word2vec training: \", elapsed, \"seconds.\")"
   ]
  },
  {
   "cell_type": "code",
   "execution_count": 15,
   "metadata": {},
   "outputs": [],
   "source": [
    "model_w2v.epochs"
   ]
  },
  {
   "cell_type": "code",
   "execution_count": 11,
   "metadata": {},
   "outputs": [],
   "source": [
    "# saves the word2vec model to be used later.\n",
    "#model_w2v.save('./model_word2vec_skipgram_300dim')\n",
    "\n",
    "# open a saved word2vec model \n",
    "#import gensim\n",
    "#model_w2v=gensim.models.Word2Vec.load('./model_word2vec')\n",
    "\n",
    "\n",
    "#model_w2v.wv.save_word2vec_format('./model_word2vec_v2_300dim.txt', binary=False)\n",
    "\n"
   ]
  },
  {
   "cell_type": "code",
   "execution_count": 17,
   "metadata": {},
   "outputs": [
    {
     "data": {
      "text/plain": [
       "[('ca', 0.8087369203567505),\n",
       " ('carcinoma', 0.7225353717803955),\n",
       " ('cancers', 0.6911400556564331),\n",
       " ('adenoca', 0.6588726043701172),\n",
       " ('adenocarcinoma', 0.643006443977356),\n",
       " ('rcc', 0.533786416053772),\n",
       " ('carcinosarcoma', 0.524259090423584),\n",
       " ('vaporization', 0.49678388237953186),\n",
       " ('scca', 0.4957553744316101),\n",
       " ('carcinomas', 0.4941122829914093)]"
      ]
     },
     "execution_count": 17,
     "metadata": {},
     "output_type": "execute_result"
    }
   ],
   "source": [
    "model_w2v.wv.most_similar('cancer')"
   ]
  },
  {
   "cell_type": "markdown",
   "metadata": {},
   "source": [
    "### Upload text format word2vec model\n"
   ]
  },
  {
   "cell_type": "code",
   "execution_count": 2,
   "metadata": {},
   "outputs": [
    {
     "name": "stdout",
     "output_type": "stream",
     "text": [
      "Loading Glove Model\n",
      "('Done.', 29939, ' words loaded!')\n"
     ]
    }
   ],
   "source": [
    "# Run this cell if you are using Glove type format\n",
    "def loadGloveModel(gloveFile):\n",
    "    print(\"Loading Glove Model\")\n",
    "    f = open(gloveFile,'r')\n",
    "    model = {}\n",
    "    for line in f:\n",
    "        splitLine = line.split()\n",
    "        word = splitLine[0]\n",
    "        embedding = [float(val) for val in splitLine[1:]]\n",
    "        model[word] = embedding\n",
    "    print(\"Done.\",len(model),\" words loaded!\")\n",
    "    return model\n",
    "\n",
    "model_w2v=loadGloveModel(\"./data/model_word2vec_v2_300dim.txt\")"
   ]
  },
  {
   "cell_type": "code",
   "execution_count": 4,
   "metadata": {},
   "outputs": [
    {
     "data": {
      "text/html": [
       "<div>\n",
       "<table border=\"1\" class=\"dataframe\">\n",
       "  <thead>\n",
       "    <tr style=\"text-align: right;\">\n",
       "      <th></th>\n",
       "      <th>id</th>\n",
       "      <th>4019</th>\n",
       "      <th>2724</th>\n",
       "      <th>25000</th>\n",
       "      <th>4280</th>\n",
       "      <th>41401</th>\n",
       "      <th>53081</th>\n",
       "      <th>51881</th>\n",
       "      <th>42731</th>\n",
       "      <th>5849</th>\n",
       "      <th>5990</th>\n",
       "      <th>text</th>\n",
       "    </tr>\n",
       "  </thead>\n",
       "  <tbody>\n",
       "    <tr>\n",
       "      <th>0</th>\n",
       "      <td>117760</td>\n",
       "      <td>0</td>\n",
       "      <td>0</td>\n",
       "      <td>0</td>\n",
       "      <td>0</td>\n",
       "      <td>0</td>\n",
       "      <td>1</td>\n",
       "      <td>1</td>\n",
       "      <td>0</td>\n",
       "      <td>0</td>\n",
       "      <td>0</td>\n",
       "      <td>\"Admission Date:  [**2118-12-14**]            ...</td>\n",
       "    </tr>\n",
       "    <tr>\n",
       "      <th>1</th>\n",
       "      <td>129030</td>\n",
       "      <td>1</td>\n",
       "      <td>1</td>\n",
       "      <td>0</td>\n",
       "      <td>0</td>\n",
       "      <td>0</td>\n",
       "      <td>1</td>\n",
       "      <td>0</td>\n",
       "      <td>0</td>\n",
       "      <td>0</td>\n",
       "      <td>0</td>\n",
       "      <td>Admission Date:  [**2137-8-31**]              ...</td>\n",
       "    </tr>\n",
       "    <tr>\n",
       "      <th>2</th>\n",
       "      <td>172040</td>\n",
       "      <td>0</td>\n",
       "      <td>0</td>\n",
       "      <td>0</td>\n",
       "      <td>0</td>\n",
       "      <td>1</td>\n",
       "      <td>0</td>\n",
       "      <td>0</td>\n",
       "      <td>0</td>\n",
       "      <td>1</td>\n",
       "      <td>0</td>\n",
       "      <td>Admission Date:  [**2174-1-6**]              D...</td>\n",
       "    </tr>\n",
       "    <tr>\n",
       "      <th>3</th>\n",
       "      <td>156170</td>\n",
       "      <td>0</td>\n",
       "      <td>0</td>\n",
       "      <td>1</td>\n",
       "      <td>1</td>\n",
       "      <td>0</td>\n",
       "      <td>0</td>\n",
       "      <td>0</td>\n",
       "      <td>1</td>\n",
       "      <td>1</td>\n",
       "      <td>0</td>\n",
       "      <td>Admission Date:  [**2102-6-9**]              D...</td>\n",
       "    </tr>\n",
       "    <tr>\n",
       "      <th>4</th>\n",
       "      <td>199180</td>\n",
       "      <td>0</td>\n",
       "      <td>0</td>\n",
       "      <td>1</td>\n",
       "      <td>1</td>\n",
       "      <td>1</td>\n",
       "      <td>0</td>\n",
       "      <td>0</td>\n",
       "      <td>0</td>\n",
       "      <td>0</td>\n",
       "      <td>0</td>\n",
       "      <td>Admission Date:  [**2164-7-2**]       Discharg...</td>\n",
       "    </tr>\n",
       "  </tbody>\n",
       "</table>\n",
       "</div>"
      ],
      "text/plain": [
       "       id  4019  2724  25000  4280  41401  53081  51881  42731  5849  5990  \\\n",
       "0  117760     0     0      0     0      0      1      1      0     0     0   \n",
       "1  129030     1     1      0     0      0      1      0      0     0     0   \n",
       "2  172040     0     0      0     0      1      0      0      0     1     0   \n",
       "3  156170     0     0      1     1      0      0      0      1     1     0   \n",
       "4  199180     0     0      1     1      1      0      0      0     0     0   \n",
       "\n",
       "                                                text  \n",
       "0  \"Admission Date:  [**2118-12-14**]            ...  \n",
       "1  Admission Date:  [**2137-8-31**]              ...  \n",
       "2  Admission Date:  [**2174-1-6**]              D...  \n",
       "3  Admission Date:  [**2102-6-9**]              D...  \n",
       "4  Admission Date:  [**2164-7-2**]       Discharg...  "
      ]
     },
     "execution_count": 4,
     "metadata": {},
     "output_type": "execute_result"
    }
   ],
   "source": [
    "import pickle\n",
    "import pandas as pd\n",
    "\n",
    "df_hadm_top10 = pd.read_csv(\"./data/DATA_HADM.csv\", escapechar='\\\\')\n",
    "ICD9CODES = pickle.load(open(\"./data/ICD9CODES.p\", \"rb\"))\n",
    "df_hadm_top10.head(5)"
   ]
  },
  {
   "cell_type": "code",
   "execution_count": 5,
   "metadata": {},
   "outputs": [
    {
     "data": {
      "text/plain": [
       "52726"
      ]
     },
     "execution_count": 5,
     "metadata": {},
     "output_type": "execute_result"
    }
   ],
   "source": [
    "# Cleanning the data\n",
    "import re\n",
    "\n",
    "def preprocessor(text):\n",
    "    text = re.sub('<[^>]*>', '', text)\n",
    "    text = re.sub('[\\W]+', ' ', text.lower()) \n",
    "    text = re.sub(\" \\d+\", \" \", text)\n",
    "    return text\n",
    "\n",
    "\n",
    "df_hadm_top10['text2'] = df_hadm_top10['text'].apply(preprocessor)\n",
    "\n",
    "# Create tokens\n",
    "token_review=[]\n",
    "for i in range(df_hadm_top10['text2'].shape[0]):\n",
    "    review = df_hadm_top10['text2'][i]\n",
    "    token_review.append([i for i in review.split()])\n",
    "\n",
    "len(token_review)"
   ]
  },
  {
   "cell_type": "markdown",
   "metadata": {},
   "source": [
    "### Create average vector for each note"
   ]
  },
  {
   "cell_type": "code",
   "execution_count": 6,
   "metadata": {},
   "outputs": [],
   "source": [
    "import numpy as np  # Make sure that numpy is imported\n",
    "from nltk.corpus import stopwords\n",
    "\n",
    "STOPWORDS_WORD2VEC = stopwords.words('english') + ICD9CODES\n",
    "\n",
    "keys_updated = [word for word in model_w2v.keys() if word not in STOPWORDS_WORD2VEC]\n",
    "index2word_set=set(keys_updated)\n",
    "\n",
    "def makeFeatureVec(words, model, num_features):\n",
    "    # Function to average all of the word vectors in a given\n",
    "    # paragraph\n",
    "    #\n",
    "    # Pre-initialize an empty numpy array (for speed)\n",
    "    featureVec = np.zeros((num_features,),dtype=\"float32\")\n",
    "    #\n",
    "    nwords = 0.\n",
    "    # \n",
    "    # Index2word is a list that contains the names of the words in \n",
    "    # the model's vocabulary. Convert it to a set, for speed \n",
    "    #index2word_set = set(model.wv.index2word) #activate if using gensim\n",
    "\n",
    "    # activate if uploaded text version\n",
    "    #index2word_set=set(keys_updated)\n",
    "    \n",
    "    \n",
    "    #\n",
    "    # Loop over each word in the review and, if it is in the model's\n",
    "    # vocaublary, add its feature vector to the total\n",
    "    for word in words:\n",
    "        if word in index2word_set: \n",
    "            nwords = nwords + 1.\n",
    "            featureVec = np.add(featureVec,model[word])\n",
    "    # \n",
    "    # Divide the result by the number of words to get the average\n",
    "    featureVec = np.divide(featureVec,nwords)\n",
    "    return featureVec\n"
   ]
  },
  {
   "cell_type": "code",
   "execution_count": 65,
   "metadata": {},
   "outputs": [],
   "source": [
    "#token_review[200]"
   ]
  },
  {
   "cell_type": "code",
   "execution_count": 19,
   "metadata": {},
   "outputs": [],
   "source": [
    "def getAvgFeatureVecs(reviews, model, num_features):\n",
    "    # Given a set of reviews (each one a list of words), calculate \n",
    "    # the average feature vector for each one and return a 2D numpy array \n",
    "    # \n",
    "    # Initialize a counter\n",
    "    counter = 0\n",
    "    # \n",
    "    # Preallocate a 2D numpy array, for speed\n",
    "    reviewFeatureVecs = np.zeros((len(reviews),num_features),dtype=\"float32\")\n",
    "    # \n",
    "    # Loop through the reviews\n",
    "    for review in reviews:\n",
    "       #\n",
    "       # Print a status message every 10000th review\n",
    "       if counter%10000 == 0:\n",
    "           print(counter, len(reviews))\n",
    "       # \n",
    "       # Call the function (defined above) that makes average feature vectors\n",
    "       reviewFeatureVecs[counter] = makeFeatureVec(review, model,num_features)\n",
    "       #\n",
    "       # Increment the counter\n",
    "       counter = counter + 1\n",
    "    return reviewFeatureVecs"
   ]
  },
  {
   "cell_type": "code",
   "execution_count": 9,
   "metadata": {
    "scrolled": true
   },
   "outputs": [
    {
     "name": "stdout",
     "output_type": "stream",
     "text": [
      "Review 0 of 52726\n",
      "Review 10000 of 52726\n",
      "Review 20000 of 52726\n",
      "Review 30000 of 52726\n",
      "Review 40000 of 52726\n",
      "Review 50000 of 52726\n",
      "('Time taken for Word2vec avg vector per note calculation: ', 1396.4263379573822, 'seconds.')\n"
     ]
    }
   ],
   "source": [
    "from time import time\n",
    "t0 = time()\n",
    "final_w2v=getAvgFeatureVecs(token_review, model_w2v, num_features=300)\n",
    "elapsed=time() - t0\n",
    "print(\"Time taken for Word2vec avg vector per note calculation: \", elapsed, \"seconds.\")"
   ]
  },
  {
   "cell_type": "code",
   "execution_count": 10,
   "metadata": {},
   "outputs": [
    {
     "data": {
      "text/plain": [
       "52726"
      ]
     },
     "execution_count": 10,
     "metadata": {},
     "output_type": "execute_result"
    }
   ],
   "source": [
    "len(final_w2v)"
   ]
  },
  {
   "cell_type": "code",
   "execution_count": 52,
   "metadata": {},
   "outputs": [
    {
     "data": {
      "text/plain": [
       "52726"
      ]
     },
     "execution_count": 52,
     "metadata": {},
     "output_type": "execute_result"
    }
   ],
   "source": [
    "labels=[\"id\", `4019`, `2724`,`25000`,`4280`,`41401`,`53081`,`51881`,`42731`,`5849`,`5990`]\n",
    "len(df_hadm_top10[labels])"
   ]
  },
  {
   "cell_type": "markdown",
   "metadata": {},
   "source": [
    "### Create train set and test set to use Machine Learning model\n"
   ]
  },
  {
   "cell_type": "code",
   "execution_count": 68,
   "metadata": {},
   "outputs": [
    {
     "name": "stdout",
     "output_type": "stream",
     "text": [
      "((26363, 111), (13181, 111), (13182, 111))\n"
     ]
    }
   ],
   "source": [
    "# Create train set and test set to use Machine Learning model\n",
    "import random\n",
    "\n",
    "final_w2v_df=pd.DataFrame(data=final_w2v)  \n",
    "data_final=pd.concat([df_hadm_top10[labels],final_w2v_df], axis=1)\n",
    "\n",
    "idx=list(range(len(token_review)))\n",
    "random.seed(1234)\n",
    "random.shuffle(idx)\n",
    "idx_train= idx[0:int(len(data_final)*0.50)]\n",
    "idx_val= idx[int(len(data_final)*0.50):int(len(data_final)*0.75)]\n",
    "idx_test= idx[int(len(data_final)*0.75):len(data_final)]\n",
    "\n",
    "train_set = data_final.iloc[idx_train]\n",
    "val_set = data_final.iloc[idx_val]\n",
    "test_set =data_final.iloc[idx_test]\n",
    "\n",
    "print(train_set.shape, val_set.shape  ,test_set.shape)"
   ]
  },
  {
   "cell_type": "code",
   "execution_count": null,
   "metadata": {},
   "outputs": [],
   "source": []
  }
 ],
 "metadata": {
  "kernelspec": {
   "display_name": "Python 3",
   "language": "python",
   "name": "python3"
  },
  "language_info": {
   "codemirror_mode": {
    "name": "ipython",
    "version": 3
   },
   "file_extension": ".py",
   "mimetype": "text/x-python",
   "name": "python",
   "nbconvert_exporter": "python",
   "pygments_lexer": "ipython3",
   "version": "3.8.5"
  }
 },
 "nbformat": 4,
 "nbformat_minor": 2
}
